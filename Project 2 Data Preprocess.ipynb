{
 "cells": [
  {
   "cell_type": "code",
   "execution_count": 111,
   "metadata": {},
   "outputs": [],
   "source": [
    "import os\n",
    "\n",
    "individual = 'p7'\n",
    "\n",
    "# os.chdir('C:\\\\Users\\\\Harrison\\\\Downloads\\\\CECS 450 Project 2\\\\Data')\n",
    "\n",
    "os.chdir('C:\\\\Users\\\\Harrison\\\\Downloads\\\\CECS 450 Project 2\\\\Data\\\\' + individual)\n",
    "tree_gaze, tree_fix, graph_gaze, graph_fix = readUser(individual)\n",
    "\n",
    "# for individual in os.listdir():\n",
    "#     os.chdir('C:\\\\Users\\\\Harrison\\\\Downloads\\\\CECS 450 Project 2\\\\Data\\\\' + individual)\n",
    "#     readUser(individual)\n",
    "\n",
    "result_tree = pd.merge(tree_gaze, tree_fix, on='timestamp')\n",
    "result_tree = result_tree.drop(result_tree.columns[[1,2,3,4,7,8,9,10,11,14]], axis=1)\n",
    "result_tree['avg_distance'] = result_tree[['distance(L)', 'distance(R)']].mean(axis=1)\n",
    "result_tree['avg_pupil'] = result_tree[['pupil(L)', 'pupil(R)']].mean(axis=1)\n",
    "\n",
    "result_graph = pd.merge(graph_gaze, graph_fix, on='timestamp')\n",
    "result_graph = result_graph.drop(result_graph.columns[[1,2,3,4,7,8,9,10,11,14]], axis=1)\n",
    "result_graph['avg_distance'] = result_graph[['distance(L)', 'distance(R)']].mean(axis=1)\n",
    "result_graph['avg_pupil'] = result_graph[['pupil(L)', 'pupil(R)']].mean(axis=1)\n",
    "\n",
    "os.chdir('C:\\\\Users\\\\Harrison\\\\Downloads\\\\CECS 450 Project 2\\\\Data')\n",
    "result_tree.to_csv(individual + '_tree.csv')\n",
    "result_graph.to_csv(individual + '_graph.csv')\n"
   ]
  },
  {
   "cell_type": "code",
   "execution_count": 27,
   "metadata": {},
   "outputs": [],
   "source": [
    "import pandas as pd\n",
    "import seaborn as sns\n",
    "import matplotlib.pyplot as plt\n",
    "\n",
    "def readUser(individual):\n",
    "    tree_gaze = pd.read_csv(individual + '.treeGZD.txt', sep='\\t', index_col=1, header=None)\n",
    "    tree_gaze.columns = ['timestamp', 'gazepointX(L)', 'gazepointY(L)', 'camX(L)', 'camY(L)', 'distance(L)', 'pupil(L)', 'validity(L)', \n",
    "                        'gazepointX(R)', 'gazepointY(R)', 'camX(R)', 'camY(R)', 'distance(R)', 'pupil(R)', 'validity(R)']\n",
    "\n",
    "    tree_fix = pd.read_csv(individual + '.treeFXD.txt', sep='\\t', index_col=0, header=None)\n",
    "    tree_fix.columns = ['timestamp', 'duration', 'gazepointX', 'gazepointY']\n",
    "\n",
    "\n",
    "    tree_event = pd.read_csv(individual + '.treeEVD.txt', sep='\\t', header=None, error_bad_lines=False, warn_bad_lines=True)\n",
    "    tree_event.columns = ['timestamp', 'event', 'eventKey', 'data1', 'data2', 'description']\n",
    "\n",
    "    graph_gaze = pd.read_csv(individual + '.graphGZD.txt', sep='\\t', index_col=1, header=None)\n",
    "    graph_gaze.columns = ['timestamp', 'gazepointX(L)', 'gazepointY(L)', 'camX(L)', 'camY(L)', 'distance(L)', 'pupil(L)', 'validity(L)', \n",
    "                        'gazepointX(R)', 'gazepointY(R)', 'camX(R)', 'camY(R)', 'distance(R)', 'pupil(R)', 'validity(R)']\n",
    "\n",
    "    graph_fix = pd.read_csv(individual + '.graphFXD.txt', sep='\\t', index_col=0, header=None, error_bad_lines=False, warn_bad_lines=True)\n",
    "    graph_fix.columns = ['timestamp', 'duration', 'gazepointX', 'gazepointY']\n",
    "\n",
    "    graph_event = pd.read_csv(individual + '.graphEVD.txt', sep='\\t', header=None, error_bad_lines=False, warn_bad_lines=True)\n",
    "    graph_event.columns = ['timestamp', 'event', 'eventKey', 'data1', 'data2', 'description']\n",
    "    \n",
    "#     print('---TREE GAZE---\\n', tree_gaze.iloc[0])\n",
    "#     print('---TREE FIXATIONS---\\n',tree_fix.iloc[0])\n",
    "#     print('---TREE EVENT---\\n',tree_event.iloc[0])\n",
    "#     print('---GRAPH GAZE---\\n',graph_gaze.iloc[0])\n",
    "#     print('---GRAPH FIXATIONS---\\n',graph_fix.iloc[0])\n",
    "#     print('---GRAPH EVENT---\\n',graph_event.iloc[0])\n",
    "    \n",
    "#     sns.scatterplot(x='gazepointX', y='gazepointY', data=tree_fix, size='duration', hue='timestamp').set_title('tree fixations')\n",
    "#     plt.show()\n",
    "#     sns.scatterplot(x='gazepointX', y='gazepointY', data=graph_fix, size='duration', hue='timestamp').set_title('graph fixations')\n",
    "#     plt.show()\n",
    "    \n",
    "    return(tree_gaze, tree_fix, graph_gaze, graph_fix)\n",
    "    "
   ]
  },
  {
   "cell_type": "markdown",
   "metadata": {},
   "source": [
    "timestamp_fix_tree\n",
    "gazepointX_tree\n",
    "gazepointY_tree\n",
    "timestamp_gaze_graph\n",
    "gazepointX_graph\n",
    "gazepointY_graph\n",
    "\n",
    "where event == mouseclick1\n",
    "timestamp_event_tree\n",
    "data1\n",
    "data2\n",
    "timestamp_event_graph\n",
    "data1\n",
    "data2"
   ]
  }
 ],
 "metadata": {
  "kernelspec": {
   "display_name": "Python 3",
   "language": "python",
   "name": "python3"
  },
  "language_info": {
   "codemirror_mode": {
    "name": "ipython",
    "version": 3
   },
   "file_extension": ".py",
   "mimetype": "text/x-python",
   "name": "python",
   "nbconvert_exporter": "python",
   "pygments_lexer": "ipython3",
   "version": "3.8.0"
  }
 },
 "nbformat": 4,
 "nbformat_minor": 4
}
